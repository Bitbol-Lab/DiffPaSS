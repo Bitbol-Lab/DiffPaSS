{
 "cells": [
  {
   "cell_type": "markdown",
   "metadata": {},
   "source": [
    "# msa_parsing\n",
    "\n",
    "> Utilities for parsing MSAs"
   ]
  },
  {
   "cell_type": "code",
   "execution_count": null,
   "metadata": {},
   "outputs": [],
   "source": [
    "#| default_exp msa_parsing"
   ]
  },
  {
   "cell_type": "code",
   "execution_count": null,
   "metadata": {},
   "outputs": [],
   "source": [
    "#| hide\n",
    "\n",
    "from nbdev.showdoc import *"
   ]
  },
  {
   "cell_type": "code",
   "execution_count": null,
   "metadata": {},
   "outputs": [],
   "source": [
    "#| export\n",
    "import string\n",
    "import itertools\n",
    "\n",
    "from Bio import SeqIO\n",
    "\n",
    "SeqRecord = tuple[str, str]\n",
    "SeqRecords = list[SeqRecord]\n",
    "\n",
    "deletekeys = dict.fromkeys(string.ascii_lowercase)\n",
    "deletekeys[\".\"] = None\n",
    "deletekeys[\"*\"] = None\n",
    "translation = str.maketrans(deletekeys)\n",
    "\n",
    "\n",
    "def read_sequence(filename: str) -> SeqRecord:\n",
    "    \"\"\"Reads the first (reference) sequences from a fasta or MSA file.\"\"\"\n",
    "    record = next(SeqIO.parse(filename, \"fasta\"))\n",
    "    return record.description, str(record.seq)\n",
    "\n",
    "\n",
    "def remove_insertions(sequence: str) -> str:\n",
    "    \"\"\"Removes any insertions into the sequence. Needed to load aligned sequences in an MSA.\"\"\"\n",
    "    return sequence.translate(translation)\n",
    "\n",
    "\n",
    "def read_msa(filename: str, nseq: int) -> SeqRecords:\n",
    "    \"\"\"Reads the first nseq sequences from an MSA file, automatically removes insertions.\"\"\"\n",
    "    if nseq == -1:\n",
    "        nseq = len([elem.id for elem in SeqIO.parse(filename, \"fasta\")])\n",
    "    return [\n",
    "        (record.description, remove_insertions(str(record.seq)))\n",
    "        for record in itertools.islice(SeqIO.parse(filename, \"fasta\"), nseq)\n",
    "    ]"
   ]
  },
  {
   "cell_type": "code",
   "execution_count": null,
   "metadata": {},
   "outputs": [
    {
     "data": {
      "text/markdown": "---\n\n[source](https://github.com/Bitbol-Lab/DiffPaSS/blob/main/diffpass/msa_parsing.py#L32){target=\"_blank\" style=\"float:right; font-size:smaller\"}\n\n### read_msa\n\n>      read_msa (filename:str, nseq:int)\n\nReads the first nseq sequences from an MSA file, automatically removes insertions.",
      "text/plain": [
       "---\n",
       "\n",
       "[source](https://github.com/Bitbol-Lab/DiffPaSS/blob/main/diffpass/msa_parsing.py#L32){target=\"_blank\" style=\"float:right; font-size:smaller\"}\n",
       "\n",
       "### read_msa\n",
       "\n",
       ">      read_msa (filename:str, nseq:int)\n",
       "\n",
       "Reads the first nseq sequences from an MSA file, automatically removes insertions."
      ]
     },
     "execution_count": null,
     "metadata": {},
     "output_type": "execute_result"
    }
   ],
   "source": [
    "show_doc(read_msa)"
   ]
  }
 ],
 "metadata": {
  "kernelspec": {
   "display_name": "python3",
   "language": "python",
   "name": "python3"
  }
 },
 "nbformat": 4,
 "nbformat_minor": 4
}
