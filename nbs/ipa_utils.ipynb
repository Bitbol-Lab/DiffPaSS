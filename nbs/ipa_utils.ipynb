{
 "cells": [
  {
   "cell_type": "markdown",
   "id": "8e7e8f88-8bca-4db0-b710-a4bc7259437b",
   "metadata": {},
   "source": [
    "# ipa_utils\n",
    "\n",
    "> Utilities for implementing Iterative Pairing Algorithm (IPA) routines using DiffPaSS."
   ]
  },
  {
   "cell_type": "code",
   "execution_count": null,
   "id": "4e870ea3-a486-4d9b-960f-1fe61cbe59dd",
   "metadata": {},
   "outputs": [],
   "source": [
    "#| default_exp ipa_utils"
   ]
  },
  {
   "cell_type": "code",
   "execution_count": null,
   "id": "93722153-82d9-4fa2-9800-d231a594c9ea",
   "metadata": {},
   "outputs": [],
   "source": [
    "#| export\n",
    "\n",
    "from collections import defaultdict\n",
    "\n",
    "import numpy as np"
   ]
  },
  {
   "cell_type": "code",
   "execution_count": null,
   "id": "35e50d03be309934",
   "metadata": {},
   "outputs": [],
   "source": [
    "#| export\n",
    "\n",
    "def get_robust_pairs(\n",
    "    all_hard_perms: list[list[list[np.ndarray]]], cutoff: float = 1.0\n",
    ") -> list[list[tuple[int, int]]]:\n",
    "    group_sizes = [len(hp) for hp in all_hard_perms[0][0]]\n",
    "    run_length = len(all_hard_perms)\n",
    "    absolute_cutoff = cutoff * run_length\n",
    "\n",
    "    all_pairings = defaultdict(int)\n",
    "    for hard_perms_this_iter in all_hard_perms:\n",
    "        for group_idx in range(len(group_sizes)):\n",
    "            for idx, mapped_idx in enumerate(hard_perms_this_iter[-1][group_idx]):\n",
    "                all_pairings[(group_idx, mapped_idx, idx)] += 1\n",
    "\n",
    "    sorted_keys = sorted(all_pairings, key=lambda x: all_pairings[x], reverse=True)\n",
    "    all_pairings_sorted = {k: all_pairings[k] for k in sorted_keys}\n",
    "\n",
    "    idx_robust_pairs = 0\n",
    "    for v in all_pairings_sorted.values():\n",
    "        if v >= absolute_cutoff:\n",
    "            idx_robust_pairs += 1\n",
    "        else:\n",
    "            break\n",
    "\n",
    "    robust_pairs_by_group = [[] for _ in range(len(group_sizes))]\n",
    "\n",
    "    for group_and_pairing_idxs in list(all_pairings_sorted)[:idx_robust_pairs]:\n",
    "        group_idx, mapped_idx, idx = group_and_pairing_idxs\n",
    "        robust_pairs_by_group[group_idx].append((mapped_idx, idx))\n",
    "\n",
    "    return robust_pairs_by_group"
   ]
  }
 ],
 "metadata": {
  "kernelspec": {
   "display_name": "python3",
   "language": "python",
   "name": "python3"
  }
 },
 "nbformat": 4,
 "nbformat_minor": 5
}
