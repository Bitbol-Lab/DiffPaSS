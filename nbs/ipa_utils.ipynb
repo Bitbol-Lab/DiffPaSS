{
 "cells": [
  {
   "cell_type": "markdown",
   "id": "8e7e8f88-8bca-4db0-b710-a4bc7259437b",
   "metadata": {},
   "source": [
    "# ipa_utils\n",
    "\n",
    "> Utilities for implementing Iterative Pairing Algorithm (IPA) routines using DiffPaSS."
   ]
  },
  {
   "cell_type": "code",
   "execution_count": null,
   "id": "4e870ea3-a486-4d9b-960f-1fe61cbe59dd",
   "metadata": {},
   "outputs": [],
   "source": [
    "#| default_exp ipa_utils"
   ]
  },
  {
   "cell_type": "code",
   "execution_count": null,
   "id": "8858e4346da3aedd",
   "metadata": {},
   "outputs": [],
   "source": [
    "#| hide\n",
    "\n",
    "%load_ext autoreload\n",
    "%autoreload 2"
   ]
  },
  {
   "cell_type": "code",
   "execution_count": null,
   "id": "668e967290f32dbf",
   "metadata": {},
   "outputs": [],
   "source": [
    "#| hide\n",
    "\n",
    "from nbdev.showdoc import *"
   ]
  },
  {
   "cell_type": "code",
   "execution_count": null,
   "id": "38b11872768eaaad",
   "metadata": {},
   "outputs": [],
   "source": [
    "#| export\n",
    "\n",
    "from collections import defaultdict\n",
    "\n",
    "from diffpass.base import DiffPaSSResults\n",
    "\n",
    "# Type aliases\n",
    "BootstrapList = list  # List indexed by bootstrap iteration\n",
    "GradientDescentList = list  # List indexed by gradient descent iteration\n",
    "GroupByGroupList = list  # List indexed by group index\n",
    "\n",
    "IndexPair = tuple[int, int]  # Pair of indices\n",
    "IndexPairsInGroup = list[IndexPair]  # Pairs of indices in a group of sequences\n",
    "IndexPairsInGroups = list[IndexPairsInGroup]  # Pairs of indices in groups of sequences"
   ]
  },
  {
   "cell_type": "markdown",
   "id": "7bc411859abcba0",
   "metadata": {},
   "source": [
    "## Type aliases\n",
    "```python\n",
    "BootstrapList = list  # List indexed by bootstrap iteration\n",
    "GradientDescentList = list  # List indexed by gradient descent iteration\n",
    "GroupByGroupList = list  # List indexed by group index\n",
    "\n",
    "IndexPair = tuple[int, int]  # Pair of indices\n",
    "IndexPairsInGroup = list[IndexPair]  # Pairs of indices in a group of sequences\n",
    "IndexPairsInGroups = list[IndexPairsInGroup]  # Pairs of indices in groups of sequences\n",
    "```"
   ]
  },
  {
   "cell_type": "code",
   "execution_count": null,
   "id": "7a49aab60f0531f6",
   "metadata": {},
   "outputs": [],
   "source": [
    "#| export\n",
    "\n",
    "def get_robust_pairs(\n",
    "    bootstrap_results: DiffPaSSResults,  # E.g. results of a run of `DiffPaSSModel.fit_bootstrap`\n",
    "    cutoff: float = 1.0,  # Fraction of iterations a pair must be present in to be considered robust\n",
    ") -> IndexPairsInGroups:  # Robust pairs of indices in each group of sequences\n",
    "    \"\"\"Get robust pairs of indices from a `DiffPaSSResults` object.\"\"\"\n",
    "    all_hard_perms = bootstrap_results.hard_perms\n",
    "    group_sizes = [len(hp) for hp in all_hard_perms[0][0]]\n",
    "    run_length = len(all_hard_perms)\n",
    "    absolute_cutoff = cutoff * run_length\n",
    "\n",
    "    all_pairings = defaultdict(int)\n",
    "    for hard_perms_this_iter in all_hard_perms:\n",
    "        for group_idx in range(len(group_sizes)):\n",
    "            for idx, mapped_idx in enumerate(hard_perms_this_iter[-1][group_idx]):\n",
    "                all_pairings[(group_idx, mapped_idx, idx)] += 1\n",
    "\n",
    "    sorted_keys = sorted(all_pairings, key=lambda x: all_pairings[x], reverse=True)\n",
    "    all_pairings_sorted = {k: all_pairings[k] for k in sorted_keys}\n",
    "\n",
    "    idx_robust_pairs = 0\n",
    "    for v in all_pairings_sorted.values():\n",
    "        if v >= absolute_cutoff:\n",
    "            idx_robust_pairs += 1\n",
    "        else:\n",
    "            break\n",
    "\n",
    "    robust_pairs_by_group = [[] for _ in range(len(group_sizes))]\n",
    "\n",
    "    for group_and_pairing_idxs in list(all_pairings_sorted)[:idx_robust_pairs]:\n",
    "        group_idx, mapped_idx, idx = group_and_pairing_idxs\n",
    "        robust_pairs_by_group[group_idx].append((mapped_idx, idx))\n",
    "\n",
    "    return robust_pairs_by_group"
   ]
  },
  {
   "cell_type": "code",
   "execution_count": null,
   "id": "5479f685d11f9d1a",
   "metadata": {},
   "outputs": [
    {
     "data": {
      "text/markdown": "---\n\n[source](https://github.com/Bitbol-Lab/DiffPaSS/blob/main/diffpass/ipa_utils.py#L22){target=\"_blank\" style=\"float:right; font-size:smaller\"}\n\n### get_robust_pairs\n\n>      get_robust_pairs (bootstrap_results:diffpass.base.DiffPaSSResults,\n>                        cutoff:float=1.0)\n\n*Get robust pairs of indices from a `DiffPaSSResults` object.*\n\n|    | **Type** | **Default** | **Details** |\n| -- | -------- | ----------- | ----------- |\n| bootstrap_results | DiffPaSSResults |  | E.g. results of a run of `DiffPaSSModel.fit_bootstrap` |\n| cutoff | float | 1.0 | Fraction of iterations a pair must be present in to be considered robust |\n| **Returns** | **list** |  | **Robust pairs of indices in each group of sequences** |",
      "text/plain": [
       "---\n",
       "\n",
       "[source](https://github.com/Bitbol-Lab/DiffPaSS/blob/main/diffpass/ipa_utils.py#L22){target=\"_blank\" style=\"float:right; font-size:smaller\"}\n",
       "\n",
       "### get_robust_pairs\n",
       "\n",
       ">      get_robust_pairs (bootstrap_results:diffpass.base.DiffPaSSResults,\n",
       ">                        cutoff:float=1.0)\n",
       "\n",
       "*Get robust pairs of indices from a `DiffPaSSResults` object.*\n",
       "\n",
       "|    | **Type** | **Default** | **Details** |\n",
       "| -- | -------- | ----------- | ----------- |\n",
       "| bootstrap_results | DiffPaSSResults |  | E.g. results of a run of `DiffPaSSModel.fit_bootstrap` |\n",
       "| cutoff | float | 1.0 | Fraction of iterations a pair must be present in to be considered robust |\n",
       "| **Returns** | **list** |  | **Robust pairs of indices in each group of sequences** |"
      ]
     },
     "execution_count": null,
     "metadata": {},
     "output_type": "execute_result"
    }
   ],
   "source": [
    "show_doc(get_robust_pairs)"
   ]
  }
 ],
 "metadata": {
  "kernelspec": {
   "display_name": "python3",
   "language": "python",
   "name": "python3"
  }
 },
 "nbformat": 4,
 "nbformat_minor": 5
}
