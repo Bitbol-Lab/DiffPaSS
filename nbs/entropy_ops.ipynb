{
 "cells": [
  {
   "cell_type": "markdown",
   "metadata": {},
   "source": [
    "# entropy_ops\n",
    "\n",
    "> Ops for computing two-body entropies."
   ]
  },
  {
   "cell_type": "code",
   "execution_count": null,
   "metadata": {},
   "outputs": [],
   "source": [
    "#| default_exp entropy_ops"
   ]
  },
  {
   "cell_type": "code",
   "execution_count": null,
   "metadata": {},
   "outputs": [],
   "source": [
    "#| hide\n",
    "\n",
    "from nbdev.showdoc import *"
   ]
  },
  {
   "cell_type": "code",
   "execution_count": null,
   "metadata": {},
   "outputs": [],
   "source": [
    "#| export\n",
    "\n",
    "import torch\n",
    "\n",
    "\n",
    "def pointwise_shannon(ps, eps=1e-20):\n",
    "    log_ps = torch.log2(ps + eps)\n",
    "\n",
    "    return -ps * log_ps\n",
    "\n",
    "\n",
    "def smooth_mean_one_body_entropy(x: torch.Tensor) -> torch.Tensor:\n",
    "    \"\"\"Smooth extension of the plug-in estimator of the onr-body Shannon entropy.\n",
    "    `x` must have shape (..., N, L, R). The result has shape (...,).\"\"\"\n",
    "    assert x.ndim >= 3\n",
    "    n_samples = x.shape[-3]\n",
    "\n",
    "    one_body_counts = x.sum(dim=-3)\n",
    "    one_body_freqs = one_body_counts / n_samples\n",
    "    # For each position, compute the Shannon entropy of the corresponding one-body\n",
    "    # distribution. Then, average over all positions.\n",
    "    mean_one_body_entr = pointwise_shannon(one_body_freqs).sum(-1).mean(-1)\n",
    "\n",
    "    return mean_one_body_entr\n",
    "\n",
    "\n",
    "def smooth_mean_two_body_entropy(x: torch.Tensor, y: torch.Tensor) -> torch.Tensor:\n",
    "    \"\"\"Smooth extension of the plug-in estimator of the two-body Shannon entropy.\n",
    "    `x` must have shape (..., N, L, R), and `y` must have shape (N, L, R).\n",
    "    The result has shape (...,).\"\"\"\n",
    "    assert x.ndim >= 3 and y.ndim == 3\n",
    "    assert x.shape[-3] == y.shape[-3]\n",
    "    n_samples = x.shape[-3]\n",
    "\n",
    "    two_body_counts = torch.einsum(\"...nia,njb->...iajb\", x, y)\n",
    "    two_body_freqs = two_body_counts / n_samples\n",
    "    # For each pair of positions, compute the Shannon entropy of the corresponding two-body\n",
    "    # distribution. Then, average over all pairs of positions.\n",
    "    mean_two_body_entr = pointwise_shannon(two_body_freqs).sum((-3, -1)).mean((-2, -1))\n",
    "\n",
    "    return mean_two_body_entr"
   ]
  },
  {
   "cell_type": "code",
   "execution_count": null,
   "metadata": {},
   "outputs": [
    {
     "data": {
      "text/markdown": "---\n\n[source](https://github.com/Bitbol-Lab/DiffPaSS/blob/main/diffpass/entropy_ops.py#L31){target=\"_blank\" style=\"float:right; font-size:smaller\"}\n\n### smooth_mean_two_body_entropy\n\n>      smooth_mean_two_body_entropy (x:torch.Tensor, y:torch.Tensor)\n\nSmooth extension of the plug-in estimator of the two-body Shannon entropy.\n`x` must have shape (..., N, L, R), and `y` must have shape (N, L, R).\nThe result has shape (...,).",
      "text/plain": [
       "---\n",
       "\n",
       "[source](https://github.com/Bitbol-Lab/DiffPaSS/blob/main/diffpass/entropy_ops.py#L31){target=\"_blank\" style=\"float:right; font-size:smaller\"}\n",
       "\n",
       "### smooth_mean_two_body_entropy\n",
       "\n",
       ">      smooth_mean_two_body_entropy (x:torch.Tensor, y:torch.Tensor)\n",
       "\n",
       "Smooth extension of the plug-in estimator of the two-body Shannon entropy.\n",
       "`x` must have shape (..., N, L, R), and `y` must have shape (N, L, R).\n",
       "The result has shape (...,)."
      ]
     },
     "execution_count": null,
     "metadata": {},
     "output_type": "execute_result"
    }
   ],
   "source": [
    "show_doc(smooth_mean_two_body_entropy)"
   ]
  }
 ],
 "metadata": {
  "kernelspec": {
   "display_name": "python3",
   "language": "python",
   "name": "python3"
  }
 },
 "nbformat": 4,
 "nbformat_minor": 4
}
